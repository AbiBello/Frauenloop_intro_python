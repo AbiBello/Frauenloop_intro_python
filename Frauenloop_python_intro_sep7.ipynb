{
 "cells": [
  {
   "cell_type": "markdown",
   "metadata": {},
   "source": [
    "# Frauenloop Python Course intro Fall 2020\n",
    "By Nasim Khadem\n"
   ]
  },
  {
   "cell_type": "markdown",
   "metadata": {},
   "source": [
    "Concepts for this week are : \n",
    "    \n",
    "\n",
    "    ## Lists \n",
    "    ## tuples\n",
    "    ## Sets\n",
    "    ## Dictionary\n",
    "    \n",
    "    \n",
    "    ## Loops / conditions \n",
    "    \n",
    "    ## Reading/Writing data from File\n",
    "    \n",
    "    ## Intro to pandas.\n",
    "\n",
    "    ## functions\n"
   ]
  },
  {
   "cell_type": "markdown",
   "metadata": {},
   "source": [
    "There are four data structures in python : \n",
    "    \n",
    "    # lists : lists are containers . you might have heard of arrays . list is the most similiar to an array \n",
    "        \n",
    "        \n",
    "        Useful functions :\n",
    "        list.append(sth) # adds sth to the end of list \n",
    "        list.extend(sth_list) adds another list to the end of \n",
    "        list.insert(sth, ind ) inserts sth at index place.\n",
    "        list.remove(sth) removes sth from list\n",
    "        list.pop()\n",
    "        and many more ...  \n",
    "   \n",
    "     Attention : lists are mutable meaning (they can be modified once created ) . \n",
    "                 Lists are ordered (the index matters) \n",
    "      "
   ]
  },
  {
   "cell_type": "code",
   "execution_count": 251,
   "metadata": {
    "collapsed": true
   },
   "outputs": [],
   "source": [
    "my_list = [] # empty list \n",
    "my_list1 = [1, 8 , 'Zebra', '9' , 15 , 'python']"
   ]
  },
  {
   "cell_type": "code",
   "execution_count": 252,
   "metadata": {
    "collapsed": false
   },
   "outputs": [
    {
     "data": {
      "text/plain": [
       "[8, '9', 'python']"
      ]
     },
     "execution_count": 252,
     "metadata": {},
     "output_type": "execute_result"
    }
   ],
   "source": [
    "\"\"\"\n",
    "    List slices : \n",
    "         lst [begin:end:step]\n",
    "\"\"\"\n",
    "\n",
    "my_list1[1:6 : 2 ]"
   ]
  },
  {
   "cell_type": "markdown",
   "metadata": {},
   "source": [
    "## tuples\n",
    " Tuples are a lot like lists the only different is they are immutable. Once created can not be changed. \n",
    " usage : swapping values , function output , simultaneous assignment ,...\n",
    " \n",
    "  Attention : tuples are immutable meaning (they can't be modified once created ) . \n",
    "                 tuples are ordered (the index matters) \n",
    "      "
   ]
  },
  {
   "cell_type": "code",
   "execution_count": 253,
   "metadata": {
    "collapsed": false
   },
   "outputs": [
    {
     "data": {
      "text/plain": [
       "('Bob', 19, 'CS')"
      ]
     },
     "execution_count": 253,
     "metadata": {},
     "output_type": "execute_result"
    }
   ],
   "source": [
    "b = (\"Bob\", 19, \"CS\")\n",
    "(name, age, studies) = b    \n",
    "\n",
    "name  , age , studies"
   ]
  },
  {
   "cell_type": "markdown",
   "metadata": {},
   "source": [
    "## sets \n",
    "just like the mathematical sets . Sets store values without repeating them . \n",
    "        useful functions :\n",
    "        set.add()\n",
    "        set.pop()\n",
    "    \n",
    "    Attention : sets are mutable meaning (they can be modified once created ) . \n",
    "                 sets are unordered (you can not use the index to get the value) \n",
    "      set[4] --------- > "
   ]
  },
  {
   "cell_type": "code",
   "execution_count": 254,
   "metadata": {
    "collapsed": false
   },
   "outputs": [
    {
     "data": {
      "text/plain": [
       "{1, 2, 3, 4, 5}"
      ]
     },
     "execution_count": 254,
     "metadata": {},
     "output_type": "execute_result"
    }
   ],
   "source": [
    "my_set = set ([ 1 , 1 , 2 , 3 ,4,4, 5])\n",
    "my_set"
   ]
  },
  {
   "cell_type": "code",
   "execution_count": 255,
   "metadata": {
    "collapsed": false
   },
   "outputs": [
    {
     "data": {
      "text/plain": [
       "{1, 2, 3, 4, 5, 7}"
      ]
     },
     "execution_count": 255,
     "metadata": {},
     "output_type": "execute_result"
    }
   ],
   "source": [
    "my_set.add(7)\n",
    "my_set\n",
    "\n"
   ]
  },
  {
   "cell_type": "code",
   "execution_count": 256,
   "metadata": {
    "collapsed": false
   },
   "outputs": [
    {
     "data": {
      "text/plain": [
       "{1, 2, 3, 4, 5, 6, 7}"
      ]
     },
     "execution_count": 256,
     "metadata": {},
     "output_type": "execute_result"
    }
   ],
   "source": [
    "my_set.add(6)\n",
    "my_set"
   ]
  },
  {
   "cell_type": "code",
   "execution_count": 257,
   "metadata": {
    "collapsed": false
   },
   "outputs": [
    {
     "data": {
      "text/plain": [
       "1"
      ]
     },
     "execution_count": 257,
     "metadata": {},
     "output_type": "execute_result"
    }
   ],
   "source": [
    "my_set.pop()"
   ]
  },
  {
   "cell_type": "code",
   "execution_count": 258,
   "metadata": {
    "collapsed": false
   },
   "outputs": [
    {
     "data": {
      "text/plain": [
       "{2, 3, 4, 5, 6, 7}"
      ]
     },
     "execution_count": 258,
     "metadata": {},
     "output_type": "execute_result"
    }
   ],
   "source": [
    "my_set"
   ]
  },
  {
   "cell_type": "code",
   "execution_count": 259,
   "metadata": {
    "collapsed": false
   },
   "outputs": [
    {
     "ename": "TypeError",
     "evalue": "'type' object is not subscriptable",
     "output_type": "error",
     "traceback": [
      "\u001b[0;31m---------------------------------------------------------------------------\u001b[0m",
      "\u001b[0;31mTypeError\u001b[0m                                 Traceback (most recent call last)",
      "\u001b[0;32m<ipython-input-259-790cc361a49a>\u001b[0m in \u001b[0;36m<module>\u001b[0;34m()\u001b[0m\n\u001b[0;32m----> 1\u001b[0;31m \u001b[0mset\u001b[0m\u001b[0;34m[\u001b[0m\u001b[0;36m4\u001b[0m\u001b[0;34m]\u001b[0m  \u001b[0;31m# ----------- > Look at the error . Keep that in mind\u001b[0m\u001b[0;34m\u001b[0m\u001b[0;34m\u001b[0m\u001b[0m\n\u001b[0m",
      "\u001b[0;31mTypeError\u001b[0m: 'type' object is not subscriptable"
     ]
    }
   ],
   "source": [
    "set[4]  # ----------- > Look at the error . Keep that in mind "
   ]
  },
  {
   "cell_type": "markdown",
   "metadata": {},
   "source": [
    "## Dictionary\n",
    "key value pair :\n",
    "Dictionaries have a wide use in python . \n",
    "        Attention : Dictionary are mutable meaning .However keys int dictionary can only be immutable. That means keys can not be Lists or sets.\n",
    "                 Dictionary are unordered .\n",
    "      "
   ]
  },
  {
   "cell_type": "code",
   "execution_count": 260,
   "metadata": {
    "collapsed": true
   },
   "outputs": [],
   "source": [
    "animals = {'dogs': [20, 10, 15, 8, 32, 15], \n",
    " 'cats': [3,4,2,8,2,4], \n",
    " 'rabbits': [2, 3, 3], \n",
    " 'fish': [0.3, 0.5, 0.8, 0.3, 1]}"
   ]
  },
  {
   "cell_type": "code",
   "execution_count": 261,
   "metadata": {
    "collapsed": false
   },
   "outputs": [
    {
     "data": {
      "text/plain": [
       "[20, 10, 15, 8, 32, 15]"
      ]
     },
     "execution_count": 261,
     "metadata": {},
     "output_type": "execute_result"
    }
   ],
   "source": [
    "animals['dogs']"
   ]
  },
  {
   "cell_type": "markdown",
   "metadata": {},
   "source": [
    "<img src=\"summary.png\">\n",
    "photos taken from udacity : intro to python programming"
   ]
  },
  {
   "cell_type": "markdown",
   "metadata": {
    "collapsed": true
   },
   "source": [
    "## Conditions : \n",
    "    if statment : \n",
    "        do something \n",
    "    elif stament :\n",
    "        do something \n",
    "    else :\n",
    "        do something\n",
    "\n",
    "statment usually entails boolean expression . if something is True then do something. "
   ]
  },
  {
   "cell_type": "code",
   "execution_count": 262,
   "metadata": {
    "collapsed": false
   },
   "outputs": [
    {
     "name": "stdout",
     "output_type": "stream",
     "text": [
      "Congratulations! You won a wooden rabbit!\n"
     ]
    }
   ],
   "source": [
    "points = 16\n",
    "\n",
    "if points <= 50:\n",
    "    result = \"Congratulations! You won a wooden rabbit!\"\n",
    "elif points <= 150:\n",
    "    result = \"Oh dear, no prize this time.\"\n",
    "elif points <= 180:\n",
    "    result = \"Congratulations! You won a wafer-thin mint!\"\n",
    "else:\n",
    "    result = \"Congratulations! You won a penguin!\"\n",
    "\n",
    "print(result)"
   ]
  },
  {
   "cell_type": "markdown",
   "metadata": {},
   "source": [
    "Loops : \n",
    "    For Loops : is used to \"iterate\", or do something repeatedly, over an iterable. \n",
    "    \n",
    "    for this many times : \n",
    "        do something \n",
    "        \n",
    " \n",
    "    for items in the iterable :\n",
    "        do something\n",
    "        \n",
    "        \n",
    "    Attention : For loops are an example of \"definite iteration\" meaning that the loop's body is run a predefined number of times."
   ]
  },
  {
   "cell_type": "code",
   "execution_count": null,
   "metadata": {
    "collapsed": true
   },
   "outputs": [],
   "source": [
    "Excersice : write a program that creates a graph similiar to this using for loops.\n",
    "*\n",
    "**\n",
    "***\n",
    "****\n",
    "*****\n",
    "******\n",
    "*******\n",
    "********"
   ]
  },
  {
   "cell_type": "code",
   "execution_count": null,
   "metadata": {
    "collapsed": true
   },
   "outputs": [],
   "source": []
  },
  {
   "cell_type": "code",
   "execution_count": null,
   "metadata": {
    "collapsed": true
   },
   "outputs": [],
   "source": []
  },
  {
   "cell_type": "code",
   "execution_count": null,
   "metadata": {
    "collapsed": true
   },
   "outputs": [],
   "source": []
  },
  {
   "cell_type": "markdown",
   "metadata": {
    "collapsed": true
   },
   "source": [
    "Answer : "
   ]
  },
  {
   "cell_type": "code",
   "execution_count": 264,
   "metadata": {
    "collapsed": false
   },
   "outputs": [
    {
     "name": "stdout",
     "output_type": "stream",
     "text": [
      "*\n",
      "**\n",
      "***\n",
      "****\n",
      "*****\n",
      "******\n"
     ]
    }
   ],
   "source": [
    "for i in range(6):\n",
    "    print((i+1)*\"*\")"
   ]
  },
  {
   "cell_type": "markdown",
   "metadata": {},
   "source": [
    "loops : \n",
    "   while loops have \"indefinite iteration\" : when a loop repeats an unknown number of times and ends when some condition is met, which is what happens in a while loop. \n",
    "    \n",
    "    \n",
    "    while condition : \n",
    "            do something\n"
   ]
  },
  {
   "cell_type": "code",
   "execution_count": null,
   "metadata": {
    "collapsed": true
   },
   "outputs": [],
   "source": [
    "Excersice : write a program that creates a graph similiar to this using while loops.\n",
    "*\n",
    "**\n",
    "***\n",
    "****\n",
    "*****\n",
    "******\n",
    "*******\n",
    "********"
   ]
  },
  {
   "cell_type": "code",
   "execution_count": 265,
   "metadata": {
    "collapsed": false
   },
   "outputs": [
    {
     "name": "stdout",
     "output_type": "stream",
     "text": [
      "*\n",
      "**\n",
      "***\n",
      "****\n",
      "*****\n",
      "******\n",
      "*******\n"
     ]
    }
   ],
   "source": [
    "i= 1\n",
    "while i < 8 :\n",
    "    print( i * \"*\")\n",
    "    i +=1"
   ]
  },
  {
   "cell_type": "markdown",
   "metadata": {},
   "source": [
    "Now that we know our data structures and loops and conditions the fun start. \n",
    "\n",
    "## Read and write from file \n",
    "data comes in every shape and sizes. CSV files , comma spereated files are very common in data science / data engineering. \n",
    "\n",
    "How to read from a file : \n",
    "\n",
    "\n",
    "1. Open the file . \n",
    "        specify which mode you want to use :\n",
    "            \" r “, for reading.\n",
    "            “ w “, for writing.\n",
    "            “ a “, for appending.\n",
    "            “ r+ “, for both reading and writing.\n",
    "2. Read in the file ( usually this happens line by line ) \n",
    "3. Store the data in a data structure .\n",
    "4. Close the file.\n",
    "\n",
    "it is very good practise to close the file once finished. memory allocation , overwriting , ... \n"
   ]
  },
  {
   "cell_type": "code",
   "execution_count": 266,
   "metadata": {
    "collapsed": false
   },
   "outputs": [],
   "source": [
    "# Open the file .\n",
    "f = open('data.txt','r')\n",
    "\n",
    "#Read in the file ( usually this happens line by line )  and Store the data in a data structure .\n",
    "file_data = f.read() # in case of writing f.write('Hello ')\n",
    "\n",
    "f.close()"
   ]
  },
  {
   "cell_type": "code",
   "execution_count": 267,
   "metadata": {
    "collapsed": false
   },
   "outputs": [
    {
     "data": {
      "text/plain": [
       "'Name    Height(m)   Weight(kg)\\n Joe    1.82    72.57\\n Mary   1.60    63.50\\n Dion   1.90    90.71\\n Kayla  1.72    66.31\\n Jose   1.78    70.23\\n Sofia  1.63    65.12\\n Erik   1.98    92.21\\n Sara   1.57    65.77'"
      ]
     },
     "execution_count": 267,
     "metadata": {},
     "output_type": "execute_result"
    }
   ],
   "source": [
    "# this way it reads exactly the contents of the text file , with new lines and space\n",
    "file_data"
   ]
  },
  {
   "cell_type": "markdown",
   "metadata": {},
   "source": [
    "How to write to a file : \n",
    "\n",
    "\n",
    "1. Open the file . \n",
    "        specify which mode you want to use in this case w or r+ :\n",
    "            \" r “, for reading.\n",
    "            “ w “, for writing.\n",
    "            “ a “, for appending.\n",
    "            “ r+ “, for both reading and writing.\n",
    "2. write in the file ( usually this happens line by line ) \n",
    "3. Store the data in a data structure .\n",
    "4. Close the file. \n",
    "\n",
    "Same as above : \n",
    "    "
   ]
  },
  {
   "cell_type": "markdown",
   "metadata": {},
   "source": [
    "Better practise is using with : with opens the file and once the indented code block is over closes the file . so no need to manually close the file \n",
    "\n",
    "    "
   ]
  },
  {
   "cell_type": "code",
   "execution_count": 268,
   "metadata": {
    "collapsed": false
   },
   "outputs": [],
   "source": [
    "with open('data.txt','r') as f:\n",
    "    file_data = f.read()"
   ]
  },
  {
   "cell_type": "markdown",
   "metadata": {},
   "source": [
    "## In class excersice : \n",
    "    1. Read in the weights and heights and names from the data2.csv  ( for the sake of learning don't use pandas. Don't hate me :D)\n",
    "    2. calculate the bmi and for each person and tell who has normal weight : bmi < 25 \n",
    "    3. calculate mean height and weight .\n",
    "    4. calculate the median weight and height.\n",
    "    5. calculate the 25th percentile height and weight. ( first Quartile Q1) \n",
    "    6. add your name and height and weight to the end of the file.save it to a new file.\n",
    "    7. make all the code into function calls. \n",
    "    8. Do the excersice using pandas. "
   ]
  },
  {
   "cell_type": "code",
   "execution_count": null,
   "metadata": {
    "collapsed": true
   },
   "outputs": [],
   "source": []
  },
  {
   "cell_type": "code",
   "execution_count": null,
   "metadata": {
    "collapsed": true
   },
   "outputs": [],
   "source": []
  },
  {
   "cell_type": "code",
   "execution_count": null,
   "metadata": {
    "collapsed": true
   },
   "outputs": [],
   "source": []
  },
  {
   "cell_type": "code",
   "execution_count": null,
   "metadata": {
    "collapsed": true
   },
   "outputs": [],
   "source": []
  },
  {
   "cell_type": "markdown",
   "metadata": {},
   "source": [
    "####  Read in the weights and heights and names from the data1.csv  ( for the sake of learning don't use pandas. Don't hate me :D)"
   ]
  },
  {
   "cell_type": "code",
   "execution_count": 269,
   "metadata": {
    "collapsed": true
   },
   "outputs": [],
   "source": [
    "def read_file(path) : \n",
    "    import csv\n",
    "    raw_list =[]\n",
    "    with open(path, 'r') as f:\n",
    "        reader = csv.DictReader(f, delimiter=',')\n",
    "        for row in reader:\n",
    "            #print (row)\n",
    "            raw_list.append(dict(row))\n",
    "    return raw_list\n",
    "        "
   ]
  },
  {
   "cell_type": "code",
   "execution_count": 271,
   "metadata": {
    "collapsed": false
   },
   "outputs": [
    {
     "data": {
      "text/plain": [
       "[{'Height(m)': '1.82', 'Name': ' Joe', 'Weight(kg)': '72.57'},\n",
       " {'Height(m)': '1.60', 'Name': ' Mary', 'Weight(kg)': '63.50'},\n",
       " {'Height(m)': '1.90', 'Name': ' Dion', 'Weight(kg)': '90.71'},\n",
       " {'Height(m)': '1.72', 'Name': ' Kayla', 'Weight(kg)': '66.31'},\n",
       " {'Height(m)': '1.78', 'Name': ' Jose', 'Weight(kg)': '70.23'},\n",
       " {'Height(m)': '1.63', 'Name': ' Sofia', 'Weight(kg)': '65.12'},\n",
       " {'Height(m)': '1.98', 'Name': ' Erik', 'Weight(kg)': '92.21'},\n",
       " {'Height(m)': '1.57', 'Name': ' Sara', 'Weight(kg)': '65.77'}]"
      ]
     },
     "execution_count": 271,
     "metadata": {},
     "output_type": "execute_result"
    }
   ],
   "source": [
    "result_list = read_file('data2.csv')\n",
    "result_list"
   ]
  },
  {
   "cell_type": "code",
   "execution_count": 3,
   "metadata": {
    "collapsed": false
   },
   "outputs": [],
   "source": [
    "import csv \n",
    "path = \"data2.csv\"\n",
    "raw_list =[]\n",
    "with open(path, 'r') as f:\n",
    "    reader = csv.DictReader(f, delimiter=',')\n",
    "    for row in reader:\n",
    "            #print (row)\n",
    "        raw_list.append(dict(row))"
   ]
  },
  {
   "cell_type": "code",
   "execution_count": 4,
   "metadata": {
    "collapsed": false
   },
   "outputs": [
    {
     "data": {
      "text/plain": [
       "<csv.DictReader at 0x112300b70>"
      ]
     },
     "execution_count": 4,
     "metadata": {},
     "output_type": "execute_result"
    }
   ],
   "source": [
    "reader"
   ]
  },
  {
   "cell_type": "code",
   "execution_count": 276,
   "metadata": {
    "collapsed": false
   },
   "outputs": [],
   "source": [
    "# more elegant way : list comprehension\n",
    "name_list   = [items['Name'] for items in result_list]\n",
    "height_list = [float(items['Height(m)']) for items in result_list]\n",
    "weight_list = [float(items['Weight(kg)']) for items in result_list]\n",
    "\n",
    "# tupled_list = zip(name_list , height_list ,weight_list )\n",
    "\n",
    "\n"
   ]
  },
  {
   "cell_type": "code",
   "execution_count": 273,
   "metadata": {
    "collapsed": true
   },
   "outputs": [],
   "source": [
    "# this cell and above cell both do the same thing\n",
    "# using for loop\n",
    "\n",
    "height_list = []\n",
    "weight_list = []\n",
    "name_list = [] \n",
    "for item in result_list :\n",
    "    height_list.append(item['Height(m)'])\n",
    "    weight_list.append(item['Weight(kg)'])\n",
    "    name_list.append(item['Name'])"
   ]
  },
  {
   "cell_type": "markdown",
   "metadata": {},
   "source": [
    "#### 2. calculate the bmi and for each person and tell who has normal weight : bmi < 25 \n"
   ]
  },
  {
   "cell_type": "code",
   "execution_count": 277,
   "metadata": {
    "collapsed": true
   },
   "outputs": [],
   "source": [
    "# function for calculating bmi\n",
    "import math\n",
    "def calculate_bmi(weight,height):\n",
    "    bmi = weight / math.pow(height,2)\n",
    "    return bmi"
   ]
  },
  {
   "cell_type": "code",
   "execution_count": 278,
   "metadata": {
    "collapsed": false
   },
   "outputs": [
    {
     "data": {
      "text/plain": [
       "[21.90858591957493,\n",
       " 24.804687499999996,\n",
       " 25.12742382271468,\n",
       " 22.41414277988102,\n",
       " 22.16576189875016,\n",
       " 24.509767021717042,\n",
       " 23.52055912661973,\n",
       " 26.682624041543264]"
      ]
     },
     "execution_count": 278,
     "metadata": {},
     "output_type": "execute_result"
    }
   ],
   "source": [
    "\n",
    "bmi_list = [calculate_bmi(w,h) for w, h in zip(weight_list, height_list)]\n",
    "bmi_list"
   ]
  },
  {
   "cell_type": "markdown",
   "metadata": {},
   "source": [
    "#### 2.b who has normal weight : bmi < 25¶"
   ]
  },
  {
   "cell_type": "code",
   "execution_count": 279,
   "metadata": {
    "collapsed": false
   },
   "outputs": [
    {
     "data": {
      "text/plain": [
       "[' Joe', ' Mary', ' Kayla', ' Jose', ' Sofia', ' Erik']"
      ]
     },
     "execution_count": 279,
     "metadata": {},
     "output_type": "execute_result"
    }
   ],
   "source": [
    "\n",
    "[name for item,  name in zip(bmi_list,name_list) if item < 25 ]"
   ]
  },
  {
   "cell_type": "markdown",
   "metadata": {},
   "source": [
    "#### calculate mean height and weight ."
   ]
  },
  {
   "cell_type": "code",
   "execution_count": 280,
   "metadata": {
    "collapsed": true
   },
   "outputs": [],
   "source": [
    "# calculating mean\n",
    "def average(val_list):\n",
    "    avg = sum (val_list) / len(val_list)\n",
    "    return avg"
   ]
  },
  {
   "cell_type": "code",
   "execution_count": 281,
   "metadata": {
    "collapsed": false
   },
   "outputs": [
    {
     "data": {
      "text/plain": [
       "(73.3025, 1.75)"
      ]
     },
     "execution_count": 281,
     "metadata": {},
     "output_type": "execute_result"
    }
   ],
   "source": [
    "# calculating for our weight and height list \n",
    "average(weight_list) , average(height_list)"
   ]
  },
  {
   "cell_type": "code",
   "execution_count": 282,
   "metadata": {
    "collapsed": true
   },
   "outputs": [],
   "source": [
    "# calculate the median weight and height.\n"
   ]
  },
  {
   "cell_type": "code",
   "execution_count": 283,
   "metadata": {
    "collapsed": true
   },
   "outputs": [],
   "source": [
    "def my_median(val_list):\n",
    "    n = len(val_list)\n",
    "    \n",
    "    sorted_val_list= sorted(val_list)\n",
    "    if n%2 == 0 : \n",
    "        med_val1 = sorted_val_list[ n//2 ]\n",
    "        \n",
    "        med_val2 = sorted_val_list[ (n-1) //2 ]\n",
    "        median = ( med_val1 + med_val2 ) / 2\n",
    "    else :\n",
    "        median = sorted_val_list[n//2]\n",
    "    return median"
   ]
  },
  {
   "cell_type": "code",
   "execution_count": 284,
   "metadata": {
    "collapsed": false
   },
   "outputs": [
    {
     "data": {
      "text/plain": [
       "[72.57, 63.5, 90.71, 66.31, 70.23, 65.12, 92.21, 65.77]"
      ]
     },
     "execution_count": 284,
     "metadata": {},
     "output_type": "execute_result"
    }
   ],
   "source": [
    "weight_list"
   ]
  },
  {
   "cell_type": "code",
   "execution_count": 285,
   "metadata": {
    "collapsed": false
   },
   "outputs": [
    {
     "data": {
      "text/plain": [
       "68.27000000000001"
      ]
     },
     "execution_count": 285,
     "metadata": {},
     "output_type": "execute_result"
    }
   ],
   "source": [
    "my_median(weight_list)"
   ]
  },
  {
   "cell_type": "code",
   "execution_count": 286,
   "metadata": {
    "collapsed": false
   },
   "outputs": [
    {
     "data": {
      "text/plain": [
       "[63.5, 65.12, 65.77, 66.31, 70.23, 72.57, 90.71, 92.21]"
      ]
     },
     "execution_count": 286,
     "metadata": {},
     "output_type": "execute_result"
    }
   ],
   "source": [
    "sorted(weight_list)"
   ]
  },
  {
   "cell_type": "code",
   "execution_count": 287,
   "metadata": {
    "collapsed": false
   },
   "outputs": [
    {
     "data": {
      "text/plain": [
       "68.27000000000001"
      ]
     },
     "execution_count": 287,
     "metadata": {},
     "output_type": "execute_result"
    }
   ],
   "source": [
    "(66.31 + 70.23) / 2"
   ]
  },
  {
   "cell_type": "markdown",
   "metadata": {},
   "source": [
    "#### calculate the 25th percentile height and weight. "
   ]
  },
  {
   "cell_type": "code",
   "execution_count": 288,
   "metadata": {
    "collapsed": false
   },
   "outputs": [
    {
     "data": {
      "text/plain": [
       "65.6075"
      ]
     },
     "execution_count": 288,
     "metadata": {},
     "output_type": "execute_result"
    }
   ],
   "source": [
    "import numpy as np \n",
    "np.percentile(weight_list, 25)"
   ]
  },
  {
   "cell_type": "markdown",
   "metadata": {},
   "source": [
    "8.Write your name and weight and height to the end of the file and save it to a new file."
   ]
  },
  {
   "cell_type": "code",
   "execution_count": 30,
   "metadata": {
    "collapsed": true
   },
   "outputs": [],
   "source": [
    "def write_file(filepath_to_read, filepath_to_write , str_add ) : \n",
    "    import csv\n",
    "    with open(filepath_to_read, 'r') as infile:\n",
    "        data = infile.read()\n",
    "        \n",
    "    with open(filepath_to_write, 'a+') as outfile:\n",
    "        mywriter = csv.writer(outfile, delimiter=',')\n",
    "        outfile.write(data)\n",
    "        outfile.write(\"\\n\")\n",
    "        mywriter.writerow(str_add)\n",
    "        \n",
    "#     for d in data:\n",
    "#         mywriter.writerow(d)\n",
    "\n",
    "#         fout.write(data)\n",
    "#         fout.write(\"\\n\")\n",
    "#         fout.write(str_add)\n",
    "        return filepath_to_write\n",
    "\n"
   ]
  },
  {
   "cell_type": "code",
   "execution_count": 65,
   "metadata": {
    "collapsed": false
   },
   "outputs": [
    {
     "data": {
      "text/plain": [
       "'data7.csv'"
      ]
     },
     "execution_count": 65,
     "metadata": {},
     "output_type": "execute_result"
    }
   ],
   "source": [
    "write_file('data2.csv', 'data7.csv',['nasim', '1.64', '75.1'] )"
   ]
  },
  {
   "cell_type": "code",
   "execution_count": 74,
   "metadata": {
    "collapsed": false
   },
   "outputs": [],
   "source": [
    "with open(\"inputfile\", \"r\") as f:\n",
    "    lines = f.readlines()\n",
    "with open(\"outputfile\", \"w\") as f:\n",
    "    for line in lines:\n",
    "        if line != \" Sara,1.57,65.77\\n\": # row to be deleted\n",
    "            f.write(line)"
   ]
  },
  {
   "cell_type": "code",
   "execution_count": null,
   "metadata": {
    "collapsed": true
   },
   "outputs": [],
   "source": []
  }
 ],
 "metadata": {
  "kernelspec": {
   "display_name": "Python 3",
   "language": "python",
   "name": "python3"
  },
  "language_info": {
   "codemirror_mode": {
    "name": "ipython",
    "version": 3
   },
   "file_extension": ".py",
   "mimetype": "text/x-python",
   "name": "python",
   "nbconvert_exporter": "python",
   "pygments_lexer": "ipython3",
   "version": "3.6.7"
  }
 },
 "nbformat": 4,
 "nbformat_minor": 2
}
